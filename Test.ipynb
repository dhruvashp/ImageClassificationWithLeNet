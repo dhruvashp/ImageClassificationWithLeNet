{
 "cells": [],
 "metadata": {
  "interpreter": {
   "hash": "e03de587fa6e6bf9554e90b59e54f079d2ac35057b6f90fcc4bf27256281a10c"
  },
  "kernelspec": {
   "display_name": "Python 3.9.7 64-bit ('new_working_env': conda)",
   "name": "python3"
  },
  "language_info": {
   "codemirror_mode": {
    "name": "ipython",
    "version": 3
   },
   "file_extension": ".py",
   "mimetype": "text/x-python",
   "name": "python",
   "nbconvert_exporter": "python",
   "pygments_lexer": "ipython3",
   "version": "3.9.7"
  },
  "orig_nbformat": 4
 },
 "nbformat": 4,
 "nbformat_minor": 2
}
