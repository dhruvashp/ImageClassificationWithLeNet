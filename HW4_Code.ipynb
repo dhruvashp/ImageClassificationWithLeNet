{
 "cells": [
  {
   "cell_type": "code",
   "execution_count": 1,
   "metadata": {},
   "outputs": [],
   "source": [
    "import pandas as pd\n",
    "import torch\n",
    "import os\n",
    "from torch.utils.data import Dataset,DataLoader\n",
    "import numpy as np\n",
    "from skimage import io    \n",
    "import matplotlib.pyplot as plt\n",
    "from torchvision import transforms\n",
    "import torch.nn as nn\n",
    "import torch.nn.functional as F\n",
    "import torch.optim as optim\n",
    "from torch.utils.tensorboard import SummaryWriter\n",
    "from sklearn.metrics import confusion_matrix                                                                                      "
   ]
  },
  {
   "cell_type": "code",
   "execution_count": 2,
   "metadata": {},
   "outputs": [],
   "source": [
    "# Classes\n",
    "\n",
    "classes = ['airplane','bird','car','cat','deer','dog','horse','monkey','ship','truck']     # index of entry for a class represents its class label"
   ]
  },
  {
   "cell_type": "code",
   "execution_count": 3,
   "metadata": {},
   "outputs": [],
   "source": [
    "# Dataset and Preprocessing\n",
    "\n",
    "class stl10_dataset(Dataset):\n",
    "    \n",
    "    def __init__(self,txt_file_loc,img_root_loc,transform_indicator=False):\n",
    "       self.text_df = pd.read_csv(txt_file_loc,delimiter=' ',header=None,names=['path','class'])\n",
    "       self.img_root_loc = img_root_loc\n",
    "       self.transform_indicator = transform_indicator\n",
    "\n",
    "       \n",
    "    def __len__(self):\n",
    "        data_length = self.text_df.shape[0]\n",
    "        return data_length\n",
    "\n",
    "    def __getitem__(self,idx):\n",
    "        img_path = os.path.join(self.img_root_loc,self.text_df.iloc[idx,0])\n",
    "        image = io.imread(img_path)                                                # image read as H x W x C numpy array (96 x 96 x 3)\n",
    "        image_class = self.text_df.iloc[idx,1]                                     # image class is a numpy scalar\n",
    "        if self.transform_indicator == True:\n",
    "            transform_tensor = transforms.ToTensor()\n",
    "            image_tensor = transform_tensor(image)                                 # we now have C x H x W tensor (3 x 96 x 96)\n",
    "            transform_size = transforms.Resize((32,32))              \n",
    "            image_size = transform_size(image_tensor)                              # we now have 3 x 32 x 32 tensor\n",
    "            max_tensor = torch.max(torch.max(image_size,1).values,1).values\n",
    "            min_tensor = torch.min(torch.min(image_size,1).values,1).values\n",
    "            transform_range = transforms.Normalize(min_tensor,max_tensor-min_tensor)\n",
    "            image_range = transform_range(image_size)                              # entire image range set to [0,1]\n",
    "            std_mean = torch.std_mean(image_range,(1,2),unbiased=True)\n",
    "            transform_normalize = transforms.Normalize(std_mean[1],std_mean[0])\n",
    "            image = transform_normalize(image_range)                               # final image after normalizing, tensor of C x H x W (3 x 32 x 32)\n",
    "            image_class = torch.from_numpy(np.array(image_class))                  # final image class, tensor scalar indicating class\n",
    "        sample = {'image':image,'image_class':image_class}\n",
    "        return sample"
   ]
  },
  {
   "cell_type": "code",
   "execution_count": 4,
   "metadata": {},
   "outputs": [],
   "source": [
    "# Dataloader (Train)\n",
    "\n",
    "batch_size = 128\n",
    "num_workers = 0\n",
    "train_dataset = stl10_dataset('splits/train.txt','',transform_indicator=True)\n",
    "train_dataloader = DataLoader(train_dataset,batch_size=batch_size,shuffle=True,num_workers=num_workers)"
   ]
  },
  {
   "cell_type": "code",
   "execution_count": 5,
   "metadata": {},
   "outputs": [],
   "source": [
    "# Neural Network\n",
    "\n",
    "class Net(nn.Module):\n",
    "    def __init__(self):\n",
    "        super().__init__()\n",
    "        self.conv1 = nn.Conv2d(3,6,5,stride=1)\n",
    "        self.pool = nn.MaxPool2d(2,2)\n",
    "        self.conv2 = nn.Conv2d(6,16,5,stride=1)\n",
    "        self.fc1 = nn.Linear(16*5*5,120)\n",
    "        self.fc2 = nn.Linear(120,84)\n",
    "        self.fc3 = nn.Linear(84,10)\n",
    "    def forward(self,x):\n",
    "        x = self.pool(F.relu(self.conv1(x)))\n",
    "        x = self.pool(F.relu(self.conv2(x)))\n",
    "        x = torch.flatten(x,1)                    # this means that input should be always batched into N x C x H x W format irrespective of how many samples are there in a batch\n",
    "        x = F.relu(self.fc1(x))\n",
    "        x = F.relu(self.fc2(x))\n",
    "        x = self.fc3(x)\n",
    "        return x\n",
    "\n",
    "net = Net()"
   ]
  },
  {
   "cell_type": "code",
   "execution_count": 6,
   "metadata": {},
   "outputs": [],
   "source": [
    "# Loss, Optimizer and Scheduler\n",
    "\n",
    "initial_learning_rate = 1e-3\n",
    "decay_rate = 0.5\n",
    "lr_update_step = 20\n",
    "criterion = nn.CrossEntropyLoss()\n",
    "optimizer = optim.Adam(net.parameters(),lr=initial_learning_rate)\n",
    "scheduler = optim.lr_scheduler.StepLR(optimizer,step_size=lr_update_step,gamma=decay_rate)"
   ]
  },
  {
   "cell_type": "code",
   "execution_count": 7,
   "metadata": {},
   "outputs": [],
   "source": [
    "# Training (and Validating)\n",
    "\n",
    "total_epochs = 100\n",
    "validation_test_interval = 5\n",
    "validation_dataset = stl10_dataset('splits/val.txt','',transform_indicator=True)\n",
    "validation_dataloader = DataLoader(validation_dataset,batch_size=batch_size,shuffle=False,num_workers=num_workers)\n",
    "batch_iter = -1\n",
    "all_batch_loss = []\n",
    "all_epoch_loss = []\n",
    "all_val_loss = []\n",
    "for epoch in range(total_epochs):\n",
    "   net.train()\n",
    "   epoch_loss = 0\n",
    "   for i,data_batch in enumerate(train_dataloader):\n",
    "      batch_iter = batch_iter + 1                                 # batch_iter shows how many batches have been optimized, over all epochs (index starting at 0)\n",
    "      input_batch = data_batch['image']\n",
    "      target_batch = data_batch['image_class']\n",
    "      optimizer.zero_grad()\n",
    "      output_batch = net(input_batch)\n",
    "      loss = criterion(output_batch,target_batch)\n",
    "      epoch_loss = epoch_loss + loss.item()\n",
    "      all_batch_loss.append(loss.item())                          # all_batch_loss contains loss obtained for each batch, over all epochs\n",
    "      loss.backward()\n",
    "      optimizer.step()\n",
    "   all_epoch_loss.append(epoch_loss/(i+1))                        # stores epoch loss per epoch (averaged over batches per epoch)\n",
    "   if ((epoch+1) % (validation_test_interval)) == 0:              # after training for every validation_test_interval epochs, testing on validation set to check overfitting\n",
    "      net.eval()\n",
    "      val_loss = 0\n",
    "      with torch.no_grad():\n",
    "         for i,val_batch in enumerate(validation_dataloader):\n",
    "            val_input = val_batch['image']\n",
    "            val_target = val_batch['image_class']\n",
    "            val_output = net(val_input)\n",
    "            loss = criterion(val_output,val_target)\n",
    "            val_loss = val_loss + loss\n",
    "      all_val_loss.append(val_loss/(i+1))                         # after validation_test_intervals, all_val_loss contains loss averaged over all the batches in validation_dataset (equivalent to epoch loss, calculated at set training epoch intervals, calculated over equal batch sizes in the validation dataset)  \n",
    "   scheduler.step() \n",
    "\n",
    "# neural network state could be saved in a dictionary, however not needed here"
   ]
  },
  {
   "cell_type": "code",
   "execution_count": 8,
   "metadata": {},
   "outputs": [],
   "source": [
    "# Testing\n",
    "\n",
    "test_dataset = stl10_dataset('splits/test.txt','',transform_indicator=True)\n",
    "test_dataloader = DataLoader(test_dataset,batch_size=batch_size,shuffle=False,num_workers=num_workers)\n",
    "net.eval()\n",
    "full_target_list = []\n",
    "full_classified_list = []\n",
    "test_loss = 0\n",
    "with torch.no_grad():\n",
    "    for i,test_batch in enumerate(test_dataloader):\n",
    "        input_batch = test_batch['image']\n",
    "        target_batch = test_batch['image_class']\n",
    "        output_batch = net(input_batch)\n",
    "        loss = criterion(output_batch,target_batch)\n",
    "        test_loss = test_loss + loss\n",
    "        classified_batch = []\n",
    "        for j in np.arange(output_batch.shape[0]):\n",
    "            output_vector = output_batch[j,:]\n",
    "            output_class = torch.argmax(output_vector)\n",
    "            classified_batch.append(output_class)\n",
    "        classified_tensor = torch.tensor(classified_batch)\n",
    "        full_target_list = full_target_list + target_batch.tolist()\n",
    "        full_classified_list = full_classified_list + classified_tensor.tolist()\n",
    "test_loss = test_loss/(i+1)\n",
    "confusion_arr = confusion_matrix(full_target_list,full_classified_list)\n",
    "classes_pred = [str(i)+str('_pred') for i in classes]\n",
    "classes_true = [str(i)+str('_true') for i in classes]\n",
    "confusion_df = pd.DataFrame(confusion_arr,index=classes_true,columns=classes_pred)\n",
    "classes_acc = [str(i)+str('_acc') for i in classes]\n",
    "class_acc_df = pd.DataFrame(0,index=classes_acc,columns=['accuracy'])\n",
    "for i in np.arange(len(classes)):\n",
    "    class_acc_df.iloc[i,0] = confusion_df.iloc[i,i]/(confusion_df.iloc[i,:].sum())"
   ]
  },
  {
   "cell_type": "code",
   "execution_count": 9,
   "metadata": {},
   "outputs": [
    {
     "data": {
      "image/png": "[encoded data removed]",
      "text/plain": [
       "<Figure size 432x288 with 1 Axes>"
      ]
     },
     "metadata": {
      "needs_background": "light"
     },
     "output_type": "display_data"
    }
   ],
   "source": [
    "# Metrics and Visualizations\n",
    "\n",
    "plt.plot(np.arange(len(all_batch_loss)),all_batch_loss)\n",
    "plt.xlabel('Mini-Batches')\n",
    "plt.ylabel('Loss')\n",
    "plt.show()"
   ]
  },
  {
   "cell_type": "markdown",
   "metadata": {},
   "source": [
    "Plot of Loss versus Mini-Batches for all the Mini-Batches during training - as seen here, on an average, the loss does drop, however I don't precisely understand why the spikes appear here."
   ]
  },
  {
   "cell_type": "code",
   "execution_count": 10,
   "metadata": {},
   "outputs": [
    {
     "data": {
      "image/png": "[encoded data removed]",
      "text/plain": [
       "<Figure size 432x288 with 1 Axes>"
      ]
     },
     "metadata": {
      "needs_background": "light"
     },
     "output_type": "display_data"
    }
   ],
   "source": [
    "plt.plot(np.arange(len(all_epoch_loss)),all_epoch_loss)\n",
    "plt.xlabel('Epochs')\n",
    "plt.ylabel('Loss')\n",
    "plt.show()"
   ]
  },
  {
   "cell_type": "markdown",
   "metadata": {},
   "source": [
    "As seen in the above curve, the training loss consistently reduces as a function of the number of epochs - also the sharp points are removed possibly due to averaging the batch losses per epoch."
   ]
  },
  {
   "cell_type": "code",
   "execution_count": 11,
   "metadata": {},
   "outputs": [
    {
     "data": {
      "image/png": "[encoded data removed]",
      "text/plain": [
       "<Figure size 432x288 with 1 Axes>"
      ]
     },
     "metadata": {
      "needs_background": "light"
     },
     "output_type": "display_data"
    }
   ],
   "source": [
    "plt.plot(np.arange(len(all_val_loss)),all_val_loss,'-bo')\n",
    "plt.xticks(np.arange(len(all_val_loss)))\n",
    "plt.xlabel('Epoch Interval for Validation')\n",
    "plt.ylabel('Loss')\n",
    "plt.show()"
   ]
  },
  {
   "cell_type": "markdown",
   "metadata": {},
   "source": [
    "As can be seen from the above curve, we have clearly over-fitted the data - extremely so. I've fixed the number of epochs at 100 for this code portion, however based on the above curve, it seems that the ideal training epochs shouldn't be more than 15-20 (each point in the curve corresponds to 5 training epochs)\n",
    "\n",
    "Just for comparsion, this main experiment iteration with 100 total epochs will be kept - specifically for comparison with another version of the main experiment with total training epochs around 15 to 20.\n",
    "\n",
    "Ideally, when the validation loss starts to rise or increase post a particular epoch, the training should then be terminated at that epoch. We have used the approach of fixed epoch termination, however, modifying the code to perform a validation error based termination wouldn't be that difficult. \n",
    "\n",
    "Another version of the main experiment with ~15 to 20 training epochs will also be performed."
   ]
  },
  {
   "cell_type": "code",
   "execution_count": 12,
   "metadata": {},
   "outputs": [
    {
     "name": "stdout",
     "output_type": "stream",
     "text": [
      "tensor(3.1569)\n"
     ]
    }
   ],
   "source": [
    "print(test_loss)"
   ]
  },
  {
   "cell_type": "markdown",
   "metadata": {},
   "source": [
    "The test loss can definitely be reduced by training the network for fewer epochs - at least according to what the validation curve suggests."
   ]
  },
  {
   "cell_type": "code",
   "execution_count": 13,
   "metadata": {},
   "outputs": [
    {
     "name": "stdout",
     "output_type": "stream",
     "text": [
      "               airplane_pred  bird_pred  car_pred  cat_pred  deer_pred  \\\n",
      "airplane_true            348         19        22         7         10   \n",
      "bird_true                 27        190        14        70         43   \n",
      "car_true                  16         11       289        14         13   \n",
      "cat_true                   9         47        20       163         68   \n",
      "deer_true                 16         46        16        58        208   \n",
      "dog_true                   7         40         5        75         53   \n",
      "horse_true                 4         21         4        43         70   \n",
      "monkey_true                5         50         5        61         37   \n",
      "ship_true                 53          6        21        10          5   \n",
      "truck_true                38         10       107        21          8   \n",
      "\n",
      "               dog_pred  horse_pred  monkey_pred  ship_pred  truck_pred  \n",
      "airplane_true         9          11            4         49          21  \n",
      "bird_true            56          30           54          7           9  \n",
      "car_true             10           8            8         33          98  \n",
      "cat_true             53          34           68         14          24  \n",
      "deer_true            48          46           41          9          12  \n",
      "dog_true            136          76          103          1           4  \n",
      "horse_true           72         219           56          5           6  \n",
      "monkey_true          75          63          199          1           4  \n",
      "ship_true             2           7            4        325          67  \n",
      "truck_true           11          11            7         60         227  \n"
     ]
    }
   ],
   "source": [
    "print(confusion_df)\n",
    "confusion_df.to_csv('Main_Experiment_100/confusion_matrix.csv')"
   ]
  },
  {
   "cell_type": "markdown",
   "metadata": {},
   "source": [
    "The confusion dataframe is as specified above."
   ]
  },
  {
   "cell_type": "code",
   "execution_count": 14,
   "metadata": {},
   "outputs": [
    {
     "name": "stdout",
     "output_type": "stream",
     "text": [
      "              accuracy\n",
      "airplane_acc     0.696\n",
      "bird_acc         0.380\n",
      "car_acc          0.578\n",
      "cat_acc          0.326\n",
      "deer_acc         0.416\n",
      "dog_acc          0.272\n",
      "horse_acc        0.438\n",
      "monkey_acc       0.398\n",
      "ship_acc         0.650\n",
      "truck_acc        0.454\n"
     ]
    }
   ],
   "source": [
    "print(class_acc_df)\n",
    "class_acc_df.to_csv('Main_Experiment_100/accuracy.csv')"
   ]
  },
  {
   "cell_type": "markdown",
   "metadata": {},
   "source": [
    "The class accuracy obtained is decent - but improvement is definitely possible."
   ]
  }
 ],
 "metadata": {
  "interpreter": {
   "hash": "e03de587fa6e6bf9554e90b59e54f079d2ac35057b6f90fcc4bf27256281a10c"
  },
  "kernelspec": {
   "display_name": "Python 3.9.7 64-bit ('new_working_env': conda)",
   "name": "python3"
  },
  "language_info": {
   "codemirror_mode": {
    "name": "ipython",
    "version": 3
   },
   "file_extension": ".py",
   "mimetype": "text/x-python",
   "name": "python",
   "nbconvert_exporter": "python",
   "pygments_lexer": "ipython3",
   "version": "3.9.7"
  },
  "orig_nbformat": 4
 },
 "nbformat": 4,
 "nbformat_minor": 2
}
